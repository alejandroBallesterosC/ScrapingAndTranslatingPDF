{
 "cells": [
  {
   "cell_type": "code",
   "execution_count": 1,
   "id": "407d20e6",
   "metadata": {},
   "outputs": [],
   "source": [
    "import camelot\n",
    "import pandas as pd\n",
    "import os\n",
    "from dotenv import load_dotenv\n",
    "import openai\n",
    "from tenacity import (\n",
    "    retry,\n",
    "    stop_after_attempt,\n",
    "    wait_random_exponential,\n",
    ")\n",
    "\n",
    "load_dotenv()\n",
    "openai.api_key = os.getenv(\"OPENAIAPIKEY\")"
   ]
  },
  {
   "cell_type": "markdown",
   "id": "9b206c43",
   "metadata": {},
   "source": [
    "# Scrape Tables From PDF"
   ]
  },
  {
   "cell_type": "code",
   "execution_count": 2,
   "id": "8d8d70e7",
   "metadata": {},
   "outputs": [],
   "source": [
    "pages = ''\n",
    "for i in range(3, 43):\n",
    "    if i < 42:\n",
    "        pages += str(i)+', '\n",
    "    else:\n",
    "        pages += str(i)"
   ]
  },
  {
   "cell_type": "code",
   "execution_count": 3,
   "id": "e36268fc",
   "metadata": {},
   "outputs": [
    {
     "data": {
      "text/plain": [
       "40"
      ]
     },
     "execution_count": 3,
     "metadata": {},
     "output_type": "execute_result"
    }
   ],
   "source": [
    "tables = camelot.read_pdf('pix_participants.pdf', pages=pages, strip_text='.\\n')\n",
    "tables.n"
   ]
  },
  {
   "cell_type": "code",
   "execution_count": 4,
   "id": "ef8e4e1e",
   "metadata": {},
   "outputs": [],
   "source": [
    "df_list = []\n",
    "for i in range(tables.n):\n",
    "    df_list.append(tables[i].df)\n",
    "    \n",
    "df = pd.concat(df_list)"
   ]
  },
  {
   "cell_type": "code",
   "execution_count": 5,
   "id": "112bfbbc",
   "metadata": {},
   "outputs": [],
   "source": [
    "df=df.drop(0, axis=1)"
   ]
  },
  {
   "cell_type": "markdown",
   "id": "4e592b9f",
   "metadata": {},
   "source": [
    "#### Output Raw df to CSV"
   ]
  },
  {
   "cell_type": "code",
   "execution_count": 6,
   "id": "0384f189",
   "metadata": {},
   "outputs": [],
   "source": [
    "#df.columns = df.iloc[0]\n",
    "#df.drop(0, axis=1)\n",
    "#df.to_csv('raw_pix_participants.csv')"
   ]
  },
  {
   "cell_type": "markdown",
   "id": "276a238f",
   "metadata": {},
   "source": [
    "# Use Chat GPT to Translate Fields to English"
   ]
  },
  {
   "cell_type": "markdown",
   "id": "1ca543de",
   "metadata": {},
   "source": [
    "https://towardsdatascience.com/translate-with-chatgpt-f85609996a7f"
   ]
  },
  {
   "cell_type": "code",
   "execution_count": null,
   "id": "5d7f85a2",
   "metadata": {},
   "outputs": [],
   "source": [
    "@retry(wait=wait_random_exponential(min=1, max=60), stop=stop_after_attempt(6))\n",
    "def completion_with_backoff(**kwargs):\n",
    "    return openai.Completion.create(**kwargs)\n",
    "\n",
    "for i in range(len(df)):\n",
    "    \n",
    "    # Get Values from current row to translate\n",
    "    columnsToTranslate = [1, 3, 4, 5, 6, 7, 8]\n",
    "    for c in columnsToTranslate:\n",
    "        textString = df.iloc[i][c]\n",
    "        \n",
    "        # Create the prompt\n",
    "        prompt = f'Please provide the English translation for these words: {textString}'\n",
    "    \n",
    "        # Translate values using exponential backoff to prevent rate limit errors\n",
    "        response = completion_with_backoff(\n",
    "          model=\"text-davinci-003\",\n",
    "          prompt=prompt,\n",
    "          max_tokens=2000,\n",
    "          top_p=0.2,\n",
    "          frequency_penalty=1.0,\n",
    "          presence_penalty=1.0\n",
    "        )\n",
    "\n",
    "        resultString = response.choices[0].text.replace('\\n', '')\n",
    "    \n",
    "        # Set new values in df\n",
    "        df.at[i, c] = resultString"
   ]
  }
 ],
 "metadata": {
  "kernelspec": {
   "display_name": "default",
   "language": "python",
   "name": "default"
  },
  "language_info": {
   "codemirror_mode": {
    "name": "ipython",
    "version": 3
   },
   "file_extension": ".py",
   "mimetype": "text/x-python",
   "name": "python",
   "nbconvert_exporter": "python",
   "pygments_lexer": "ipython3",
   "version": "3.9.13"
  }
 },
 "nbformat": 4,
 "nbformat_minor": 5
}
